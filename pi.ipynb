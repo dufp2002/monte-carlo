{
 "cells": [
  {
   "cell_type": "code",
   "execution_count": 1,
   "id": "8c973d30-fc88-4f40-8f38-32a2b3872a07",
   "metadata": {
    "tags": []
   },
   "outputs": [],
   "source": [
    "import matplotlib.pyplot as plt\n",
    "import numpy as np"
   ]
  },
  {
   "cell_type": "code",
   "execution_count": 21,
   "id": "1901f749-6526-4259-891f-05bcc674c90b",
   "metadata": {
    "tags": []
   },
   "outputs": [],
   "source": [
    "def omega(x,y):\n",
    "    if x*x+y*y<=1:\n",
    "        return 1\n",
    "    else:\n",
    "        return 0"
   ]
  },
  {
   "cell_type": "code",
   "execution_count": 26,
   "id": "d0c7ca15-8150-4a44-83a0-ef9ddd6c3466",
   "metadata": {
    "tags": []
   },
   "outputs": [
    {
     "name": "stdout",
     "output_type": "stream",
     "text": [
      "9 3.5555555555555554\n",
      "99 2.8282828282828283\n",
      "999 2.974974974974975\n",
      "9999 2.991099109910991\n",
      "99999 2.995269952699527\n",
      "999999 3.0014110014110016\n",
      "9999999 2.99991429999143\n"
     ]
    }
   ],
   "source": [
    "N = 10**7\n",
    "data = [np.random.randint(0,2,N),np.random.randint(0,2,N)]\n",
    "\n",
    "avg = 0\n",
    "\n",
    "for i in range(N):\n",
    "    if np.log10(i+1)%1==0 and i!=0:\n",
    "        print(i,4*avg/i)\n",
    "    avg+= omega(data[0][i],data[1][i])\n",
    "    "
   ]
  }
 ],
 "metadata": {
  "kernelspec": {
   "display_name": "Python 3 (ipykernel)",
   "language": "python",
   "name": "python3"
  },
  "language_info": {
   "codemirror_mode": {
    "name": "ipython",
    "version": 3
   },
   "file_extension": ".py",
   "mimetype": "text/x-python",
   "name": "python",
   "nbconvert_exporter": "python",
   "pygments_lexer": "ipython3",
   "version": "3.9.17"
  }
 },
 "nbformat": 4,
 "nbformat_minor": 5
}
